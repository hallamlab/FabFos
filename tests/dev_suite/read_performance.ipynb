{
 "cells": [
  {
   "cell_type": "code",
   "execution_count": 10,
   "metadata": {},
   "outputs": [],
   "source": [
    "import os\n",
    "from pathlib import Path\n",
    "import shutil\n",
    "\n",
    "from local.constants import WORKSPACE_ROOT\n",
    "\n",
    "fpath = WORKSPACE_ROOT/\"data/beaver/Beaver_cecum/2nd_hits/EKL/Raw_Data/EKL_Cecum_ligninases_pool_secondary_hits.fastq\"\n",
    "_test_out = Path(\"./cache/delete_me\")"
   ]
  },
  {
   "cell_type": "code",
   "execution_count": 8,
   "metadata": {},
   "outputs": [],
   "source": [
    "with open(fpath, \"rb\") as f:\n",
    "    with open(_test_out, \"wb\") as o:\n",
    "        for l in f:\n",
    "            o.write(l)"
   ]
  },
  {
   "cell_type": "code",
   "execution_count": 6,
   "metadata": {},
   "outputs": [
    {
     "data": {
      "text/plain": [
       "0"
      ]
     },
     "execution_count": 6,
     "metadata": {},
     "output_type": "execute_result"
    }
   ],
   "source": [
    "os.system(f\"cat {fpath} >{_test_out}\")"
   ]
  },
  {
   "cell_type": "code",
   "execution_count": 11,
   "metadata": {},
   "outputs": [],
   "source": [
    "with open(fpath, \"rb\") as f:\n",
    "    with open(_test_out, \"wb\") as o:\n",
    "        shutil.copyfileobj(f, o)"
   ]
  }
 ],
 "metadata": {
  "kernelspec": {
   "display_name": "p312",
   "language": "python",
   "name": "python3"
  },
  "language_info": {
   "codemirror_mode": {
    "name": "ipython",
    "version": 3
   },
   "file_extension": ".py",
   "mimetype": "text/x-python",
   "name": "python",
   "nbconvert_exporter": "python",
   "pygments_lexer": "ipython3",
   "version": "3.12.2"
  }
 },
 "nbformat": 4,
 "nbformat_minor": 2
}
